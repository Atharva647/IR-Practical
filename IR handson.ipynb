{
 "cells": [
  {
   "cell_type": "code",
   "execution_count": 1,
   "id": "47eb765a",
   "metadata": {},
   "outputs": [],
   "source": [
    "import requests "
   ]
  },
  {
   "cell_type": "code",
   "execution_count": 2,
   "id": "935244e0",
   "metadata": {},
   "outputs": [],
   "source": [
    "x=requests.get('https://w3schools.com/python/demopage.htm')"
   ]
  },
  {
   "cell_type": "code",
   "execution_count": 3,
   "id": "55e746c9",
   "metadata": {},
   "outputs": [
    {
     "name": "stdout",
     "output_type": "stream",
     "text": [
      "<!DOCTYPE html>\n",
      "<html>\n",
      "<body>\n",
      "\n",
      "<h1>This is a Test Page</h1>\n",
      "\n",
      "</body>\n",
      "</html>\n"
     ]
    }
   ],
   "source": [
    "print(x.text)"
   ]
  },
  {
   "cell_type": "code",
   "execution_count": 4,
   "id": "d22fbce3",
   "metadata": {},
   "outputs": [],
   "source": [
    "y=requests.get(\"https://match.myanatomy.in/\")"
   ]
  },
  {
   "cell_type": "code",
   "execution_count": 5,
   "id": "c7b8e16c",
   "metadata": {
    "scrolled": true
   },
   "outputs": [
    {
     "name": "stdout",
     "output_type": "stream",
     "text": [
      "<!doctype html><html lang=\"en\"><head><meta charset=\"utf-8\"><meta name=\"viewport\" content=\"width=device-width,initial-scale=1\"><meta name=\"description\" content=\"A Campus Recruitment Enabler, converging the Corporates, Candidates and Colleges in one single platform\"><link rel=\"shortcut icon\" href=\"/favicon.ico\"><link rel=\"preconnect\" href=\"https://fonts.googleapis.com\"><link rel=\"preconnect\" href=\"https://fonts.gstatic.com\" crossorigin><link href=\"https://fonts.googleapis.com/css2?family=Marck+Script&display=swap\" rel=\"stylesheet\"><link href=\"https://fonts.googleapis.com/css2?family=Lato:ital,wght@0,400;0,700;1,400;1,700&display=swap\" rel=\"stylesheet\"><link href=\"https://fonts.googleapis.com/css2?family=Montserrat:wght@700&display=swap\" rel=\"stylesheet\"><link href=\"https://fonts.googleapis.com/css2?family=Satisfy&display=swap\" rel=\"stylesheet\"><title>MATCH (MyAnatomy Talent Convergence Horizon)</title><script async src=\"https://www.googletagmanager.com/gtag/js?id=UA-143247556-1\"></script><script>function gtag(){dataLayer.push(arguments)}window.dataLayer=window.dataLayer||[],gtag(\"js\",new Date),gtag(\"config\",\"UA-143247556-1\")</script><script src=\"//code.jivosite.com/widget.js\" jv-id=\"APoMStJZ8i\" async></script><link href=\"/static/css/2.9681481d.chunk.css\" rel=\"stylesheet\"><link href=\"/static/css/main.84b914b5.chunk.css\" rel=\"stylesheet\"></head><body><div id=\"root\"></div><script>!function(e){function t(t){for(var n,a,i=t[0],c=t[1],f=t[2],s=0,p=[];s<i.length;s++)a=i[s],Object.prototype.hasOwnProperty.call(o,a)&&o[a]&&p.push(o[a][0]),o[a]=0;for(n in c)Object.prototype.hasOwnProperty.call(c,n)&&(e[n]=c[n]);for(l&&l(t);p.length;)p.shift()();return u.push.apply(u,f||[]),r()}function r(){for(var e,t=0;t<u.length;t++){for(var r=u[t],n=!0,i=1;i<r.length;i++){var c=r[i];0!==o[c]&&(n=!1)}n&&(u.splice(t--,1),e=a(a.s=r[0]))}return e}var n={},o={1:0},u=[];function a(t){if(n[t])return n[t].exports;var r=n[t]={i:t,l:!1,exports:{}};return e[t].call(r.exports,r,r.exports,a),r.l=!0,r.exports}a.e=function(e){var t=[],r=o[e];if(0!==r)if(r)t.push(r[2]);else{var n=new Promise((function(t,n){r=o[e]=[t,n]}));t.push(r[2]=n);var u,i=document.createElement(\"script\");i.charset=\"utf-8\",i.timeout=120,a.nc&&i.setAttribute(\"nonce\",a.nc),i.src=function(e){return a.p+\"static/js/\"+({}[e]||e)+\".\"+{3:\"5c873feb\"}[e]+\".chunk.js\"}(e);var c=new Error;u=function(t){i.onerror=i.onload=null,clearTimeout(f);var r=o[e];if(0!==r){if(r){var n=t&&(\"load\"===t.type?\"missing\":t.type),u=t&&t.target&&t.target.src;c.message=\"Loading chunk \"+e+\" failed.\\n(\"+n+\": \"+u+\")\",c.name=\"ChunkLoadError\",c.type=n,c.request=u,r[1](c)}o[e]=void 0}};var f=setTimeout((function(){u({type:\"timeout\",target:i})}),12e4);i.onerror=i.onload=u,document.head.appendChild(i)}return Promise.all(t)},a.m=e,a.c=n,a.d=function(e,t,r){a.o(e,t)||Object.defineProperty(e,t,{enumerable:!0,get:r})},a.r=function(e){\"undefined\"!=typeof Symbol&&Symbol.toStringTag&&Object.defineProperty(e,Symbol.toStringTag,{value:\"Module\"}),Object.defineProperty(e,\"__esModule\",{value:!0})},a.t=function(e,t){if(1&t&&(e=a(e)),8&t)return e;if(4&t&&\"object\"==typeof e&&e&&e.__esModule)return e;var r=Object.create(null);if(a.r(r),Object.defineProperty(r,\"default\",{enumerable:!0,value:e}),2&t&&\"string\"!=typeof e)for(var n in e)a.d(r,n,function(t){return e[t]}.bind(null,n));return r},a.n=function(e){var t=e&&e.__esModule?function(){return e.default}:function(){return e};return a.d(t,\"a\",t),t},a.o=function(e,t){return Object.prototype.hasOwnProperty.call(e,t)},a.p=\"/\",a.oe=function(e){throw console.error(e),e};var i=this.webpackJsonpanatomy_frontend=this.webpackJsonpanatomy_frontend||[],c=i.push.bind(i);i.push=t,i=i.slice();for(var f=0;f<i.length;f++)t(i[f]);var l=c;r()}([])</script><script src=\"/static/js/2.91d12c0f.chunk.js\"></script><script src=\"/static/js/main.882a1854.chunk.js\"></script></body></html>\n"
     ]
    }
   ],
   "source": [
    "print(y.text)"
   ]
  },
  {
   "cell_type": "code",
   "execution_count": 6,
   "id": "72dd9206",
   "metadata": {},
   "outputs": [],
   "source": [
    "import json\n",
    "from bs4 import BeautifulSoup"
   ]
  },
  {
   "cell_type": "code",
   "execution_count": 18,
   "id": "6490c30c",
   "metadata": {
    "scrolled": true
   },
   "outputs": [
    {
     "name": "stdout",
     "output_type": "stream",
     "text": [
      "<!DOCTYPE html>\n",
      "<html lang=\"en\">\n",
      "<head>\n",
      "\t<meta charset=\"UTF-8\">\n",
      "\t<title>Quotes to Scrape</title>\n",
      "    <link rel=\"stylesheet\" href=\"/static/bootstrap.min.css\">\n",
      "    <link rel=\"stylesheet\" href=\"/static/main.css\">\n",
      "</head>\n",
      "<body>\n",
      "    <div class=\"container\">\n",
      "        <div class=\"row header-box\">\n",
      "            <div class=\"col-md-8\">\n",
      "                <h1>\n",
      "                    <a href=\"/\" style=\"text-decoration: none\">Quotes to Scrape</a>\n",
      "                </h1>\n",
      "            </div>\n",
      "            <div class=\"col-md-4\">\n",
      "                <p>\n",
      "                \n",
      "                    <a href=\"/login\">Login</a>\n",
      "                \n",
      "                </p>\n",
      "            </div>\n",
      "        </div>\n",
      "    \n",
      "<script src=\"/static/jquery.js\"></script>\n",
      "<script>\n",
      "    var data = [\n",
      "    {\n",
      "        \"tags\": [\n",
      "            \"change\",\n",
      "            \"deep-thoughts\",\n",
      "            \"thinking\",\n",
      "            \"world\"\n",
      "        ],\n",
      "        \"author\": {\n",
      "            \"name\": \"Albert Einstein\",\n",
      "            \"goodreads_link\": \"/author/show/9810.Albert_Einstein\",\n",
      "            \"slug\": \"Albert-Einstein\"\n",
      "        },\n",
      "        \"text\": \"\\u201cThe world as we have created it is a process of our thinking. It cannot be changed without changing our thinking.\\u201d\"\n",
      "    },\n",
      "    {\n",
      "        \"tags\": [\n",
      "            \"abilities\",\n",
      "            \"choices\"\n",
      "        ],\n",
      "        \"author\": {\n",
      "            \"name\": \"J.K. Rowling\",\n",
      "            \"goodreads_link\": \"/author/show/1077326.J_K_Rowling\",\n",
      "            \"slug\": \"J-K-Rowling\"\n",
      "        },\n",
      "        \"text\": \"\\u201cIt is our choices, Harry, that show what we truly are, far more than our abilities.\\u201d\"\n",
      "    },\n",
      "    {\n",
      "        \"tags\": [\n",
      "            \"inspirational\",\n",
      "            \"life\",\n",
      "            \"live\",\n",
      "            \"miracle\",\n",
      "            \"miracles\"\n",
      "        ],\n",
      "        \"author\": {\n",
      "            \"name\": \"Albert Einstein\",\n",
      "            \"goodreads_link\": \"/author/show/9810.Albert_Einstein\",\n",
      "            \"slug\": \"Albert-Einstein\"\n",
      "        },\n",
      "        \"text\": \"\\u201cThere are only two ways to live your life. One is as though nothing is a miracle. The other is as though everything is a miracle.\\u201d\"\n",
      "    },\n",
      "    {\n",
      "        \"tags\": [\n",
      "            \"aliteracy\",\n",
      "            \"books\",\n",
      "            \"classic\",\n",
      "            \"humor\"\n",
      "        ],\n",
      "        \"author\": {\n",
      "            \"name\": \"Jane Austen\",\n",
      "            \"goodreads_link\": \"/author/show/1265.Jane_Austen\",\n",
      "            \"slug\": \"Jane-Austen\"\n",
      "        },\n",
      "        \"text\": \"\\u201cThe person, be it gentleman or lady, who has not pleasure in a good novel, must be intolerably stupid.\\u201d\"\n",
      "    },\n",
      "    {\n",
      "        \"tags\": [\n",
      "            \"be-yourself\",\n",
      "            \"inspirational\"\n",
      "        ],\n",
      "        \"author\": {\n",
      "            \"name\": \"Marilyn Monroe\",\n",
      "            \"goodreads_link\": \"/author/show/82952.Marilyn_Monroe\",\n",
      "            \"slug\": \"Marilyn-Monroe\"\n",
      "        },\n",
      "        \"text\": \"\\u201cImperfection is beauty, madness is genius and it's better to be absolutely ridiculous than absolutely boring.\\u201d\"\n",
      "    },\n",
      "    {\n",
      "        \"tags\": [\n",
      "            \"adulthood\",\n",
      "            \"success\",\n",
      "            \"value\"\n",
      "        ],\n",
      "        \"author\": {\n",
      "            \"name\": \"Albert Einstein\",\n",
      "            \"goodreads_link\": \"/author/show/9810.Albert_Einstein\",\n",
      "            \"slug\": \"Albert-Einstein\"\n",
      "        },\n",
      "        \"text\": \"\\u201cTry not to become a man of success. Rather become a man of value.\\u201d\"\n",
      "    },\n",
      "    {\n",
      "        \"tags\": [\n",
      "            \"life\",\n",
      "            \"love\"\n",
      "        ],\n",
      "        \"author\": {\n",
      "            \"name\": \"Andr\\u00e9 Gide\",\n",
      "            \"goodreads_link\": \"/author/show/7617.Andr_Gide\",\n",
      "            \"slug\": \"Andre-Gide\"\n",
      "        },\n",
      "        \"text\": \"\\u201cIt is better to be hated for what you are than to be loved for what you are not.\\u201d\"\n",
      "    },\n",
      "    {\n",
      "        \"tags\": [\n",
      "            \"edison\",\n",
      "            \"failure\",\n",
      "            \"inspirational\",\n",
      "            \"paraphrased\"\n",
      "        ],\n",
      "        \"author\": {\n",
      "            \"name\": \"Thomas A. Edison\",\n",
      "            \"goodreads_link\": \"/author/show/3091287.Thomas_A_Edison\",\n",
      "            \"slug\": \"Thomas-A-Edison\"\n",
      "        },\n",
      "        \"text\": \"\\u201cI have not failed. I've just found 10,000 ways that won't work.\\u201d\"\n",
      "    },\n",
      "    {\n",
      "        \"tags\": [\n",
      "            \"misattributed-eleanor-roosevelt\"\n",
      "        ],\n",
      "        \"author\": {\n",
      "            \"name\": \"Eleanor Roosevelt\",\n",
      "            \"goodreads_link\": \"/author/show/44566.Eleanor_Roosevelt\",\n",
      "            \"slug\": \"Eleanor-Roosevelt\"\n",
      "        },\n",
      "        \"text\": \"\\u201cA woman is like a tea bag; you never know how strong it is until it's in hot water.\\u201d\"\n",
      "    },\n",
      "    {\n",
      "        \"tags\": [\n",
      "            \"humor\",\n",
      "            \"obvious\",\n",
      "            \"simile\"\n",
      "        ],\n",
      "        \"author\": {\n",
      "            \"name\": \"Steve Martin\",\n",
      "            \"goodreads_link\": \"/author/show/7103.Steve_Martin\",\n",
      "            \"slug\": \"Steve-Martin\"\n",
      "        },\n",
      "        \"text\": \"\\u201cA day without sunshine is like, you know, night.\\u201d\"\n",
      "    }\n",
      "];\n",
      "    for (var i in data) {\n",
      "        var d = data[i];\n",
      "        var tags = $.map(d['tags'], function(t) {\n",
      "            return \"<a class='tag'>\" + t + \"</a>\";\n",
      "        }).join(\" \");\n",
      "        document.write(\"<div class='quote'><span class='text'>\" + d['text'] + \"</span><span>by <small class='author'>\" + d['author']['name'] + \"</small></span><div class='tags'>Tags: \" + tags + \"</div></div>\");\n",
      "        }\n",
      "</script>\n",
      "<nav>\n",
      "    <ul class=\"pager\">\n",
      "        \n",
      "        \n",
      "        <li class=\"next\">\n",
      "            <a href=\"/js/page/2/\">Next <span aria-hidden=\"true\">&rarr;</span></a>\n",
      "        </li>\n",
      "        \n",
      "    </ul>\n",
      "</nav>\n",
      "\n",
      "    </div>\n",
      "    <footer class=\"footer\">\n",
      "        <div class=\"container\">\n",
      "            <p class=\"text-muted\">\n",
      "                Quotes by: <a href=\"https://www.goodreads.com/quotes\">GoodReads.com</a>\n",
      "            </p>\n",
      "            <p class=\"copyright\">\n",
      "                Made with <span class='zyte'>❤</span> by <a class='zyte' href=\"https://www.zyte.com\">Zyte</a>\n",
      "            </p>\n",
      "        </div>\n",
      "    </footer>\n",
      "</body>\n",
      "</html>\n",
      "Data from http://quotes.toscrape.com/js stored successfully\n"
     ]
    }
   ],
   "source": [
    "def scrape_and_Store(url,storage_file):\n",
    "    try:\n",
    "        response=requests.get(url)\n",
    "        print(response.text)\n",
    "        if response.status_code==200:\n",
    "            soup=BeautifulSoup(response.text,'html.parser')\n",
    "            \n",
    "            data_to_store={\n",
    "                \"title\":soup.title.string.strip(),\n",
    "                \"url\":url,\n",
    "                \"content\":soup.get_text().strip()\n",
    "            }\n",
    "            \n",
    "            with open (storage_file,'a') as f:\n",
    "                json.dump(data_to_store,f)\n",
    "                f.write('\\n')\n",
    "            \n",
    "            print(f\"Data from {url} stored successfully\")\n",
    "        else:\n",
    "            printnt(f\"Failed to retrieve data from {url}\")\n",
    "            \n",
    "    except Exception as e:\n",
    "        print(f\"An error occured:{str(e)}\")\n",
    "        \n",
    "start_url='http://quotes.toscrape.com/js'\n",
    "storage_file='scraped_data.json'\n",
    "\n",
    "scrape_and_Store(start_url,storage_file)"
   ]
  },
  {
   "cell_type": "code",
   "execution_count": 16,
   "id": "7036e7be",
   "metadata": {},
   "outputs": [],
   "source": [
    "y=requests.get(start_url)"
   ]
  },
  {
   "cell_type": "code",
   "execution_count": 12,
   "id": "cfc4b018",
   "metadata": {
    "scrolled": true
   },
   "outputs": [
    {
     "name": "stdout",
     "output_type": "stream",
     "text": [
      "<!DOCTYPE html>\n",
      "<html lang=\"en\">\n",
      "<head>\n",
      "\t<meta charset=\"UTF-8\">\n",
      "\t<title>Quotes to Scrape</title>\n",
      "    <link rel=\"stylesheet\" href=\"/static/bootstrap.min.css\">\n",
      "    <link rel=\"stylesheet\" href=\"/static/main.css\">\n",
      "</head>\n",
      "<body>\n",
      "    <div class=\"container\">\n",
      "        <div class=\"row header-box\">\n",
      "            <div class=\"col-md-8\">\n",
      "                <h1>\n",
      "                    <a href=\"/\" style=\"text-decoration: none\">Quotes to Scrape</a>\n",
      "                </h1>\n",
      "            </div>\n",
      "            <div class=\"col-md-4\">\n",
      "                <p>\n",
      "                \n",
      "                    <a href=\"/login\">Login</a>\n",
      "                \n",
      "                </p>\n",
      "            </div>\n",
      "        </div>\n",
      "    \n",
      "<script src=\"/static/jquery.js\"></script>\n",
      "<script>\n",
      "    var data = [\n",
      "    {\n",
      "        \"tags\": [\n",
      "            \"change\",\n",
      "            \"deep-thoughts\",\n",
      "            \"thinking\",\n",
      "            \"world\"\n",
      "        ],\n",
      "        \"author\": {\n",
      "            \"name\": \"Albert Einstein\",\n",
      "            \"goodreads_link\": \"/author/show/9810.Albert_Einstein\",\n",
      "            \"slug\": \"Albert-Einstein\"\n",
      "        },\n",
      "        \"text\": \"\\u201cThe world as we have created it is a process of our thinking. It cannot be changed without changing our thinking.\\u201d\"\n",
      "    },\n",
      "    {\n",
      "        \"tags\": [\n",
      "            \"abilities\",\n",
      "            \"choices\"\n",
      "        ],\n",
      "        \"author\": {\n",
      "            \"name\": \"J.K. Rowling\",\n",
      "            \"goodreads_link\": \"/author/show/1077326.J_K_Rowling\",\n",
      "            \"slug\": \"J-K-Rowling\"\n",
      "        },\n",
      "        \"text\": \"\\u201cIt is our choices, Harry, that show what we truly are, far more than our abilities.\\u201d\"\n",
      "    },\n",
      "    {\n",
      "        \"tags\": [\n",
      "            \"inspirational\",\n",
      "            \"life\",\n",
      "            \"live\",\n",
      "            \"miracle\",\n",
      "            \"miracles\"\n",
      "        ],\n",
      "        \"author\": {\n",
      "            \"name\": \"Albert Einstein\",\n",
      "            \"goodreads_link\": \"/author/show/9810.Albert_Einstein\",\n",
      "            \"slug\": \"Albert-Einstein\"\n",
      "        },\n",
      "        \"text\": \"\\u201cThere are only two ways to live your life. One is as though nothing is a miracle. The other is as though everything is a miracle.\\u201d\"\n",
      "    },\n",
      "    {\n",
      "        \"tags\": [\n",
      "            \"aliteracy\",\n",
      "            \"books\",\n",
      "            \"classic\",\n",
      "            \"humor\"\n",
      "        ],\n",
      "        \"author\": {\n",
      "            \"name\": \"Jane Austen\",\n",
      "            \"goodreads_link\": \"/author/show/1265.Jane_Austen\",\n",
      "            \"slug\": \"Jane-Austen\"\n",
      "        },\n",
      "        \"text\": \"\\u201cThe person, be it gentleman or lady, who has not pleasure in a good novel, must be intolerably stupid.\\u201d\"\n",
      "    },\n",
      "    {\n",
      "        \"tags\": [\n",
      "            \"be-yourself\",\n",
      "            \"inspirational\"\n",
      "        ],\n",
      "        \"author\": {\n",
      "            \"name\": \"Marilyn Monroe\",\n",
      "            \"goodreads_link\": \"/author/show/82952.Marilyn_Monroe\",\n",
      "            \"slug\": \"Marilyn-Monroe\"\n",
      "        },\n",
      "        \"text\": \"\\u201cImperfection is beauty, madness is genius and it's better to be absolutely ridiculous than absolutely boring.\\u201d\"\n",
      "    },\n",
      "    {\n",
      "        \"tags\": [\n",
      "            \"adulthood\",\n",
      "            \"success\",\n",
      "            \"value\"\n",
      "        ],\n",
      "        \"author\": {\n",
      "            \"name\": \"Albert Einstein\",\n",
      "            \"goodreads_link\": \"/author/show/9810.Albert_Einstein\",\n",
      "            \"slug\": \"Albert-Einstein\"\n",
      "        },\n",
      "        \"text\": \"\\u201cTry not to become a man of success. Rather become a man of value.\\u201d\"\n",
      "    },\n",
      "    {\n",
      "        \"tags\": [\n",
      "            \"life\",\n",
      "            \"love\"\n",
      "        ],\n",
      "        \"author\": {\n",
      "            \"name\": \"Andr\\u00e9 Gide\",\n",
      "            \"goodreads_link\": \"/author/show/7617.Andr_Gide\",\n",
      "            \"slug\": \"Andre-Gide\"\n",
      "        },\n",
      "        \"text\": \"\\u201cIt is better to be hated for what you are than to be loved for what you are not.\\u201d\"\n",
      "    },\n",
      "    {\n",
      "        \"tags\": [\n",
      "            \"edison\",\n",
      "            \"failure\",\n",
      "            \"inspirational\",\n",
      "            \"paraphrased\"\n",
      "        ],\n",
      "        \"author\": {\n",
      "            \"name\": \"Thomas A. Edison\",\n",
      "            \"goodreads_link\": \"/author/show/3091287.Thomas_A_Edison\",\n",
      "            \"slug\": \"Thomas-A-Edison\"\n",
      "        },\n",
      "        \"text\": \"\\u201cI have not failed. I've just found 10,000 ways that won't work.\\u201d\"\n",
      "    },\n",
      "    {\n",
      "        \"tags\": [\n",
      "            \"misattributed-eleanor-roosevelt\"\n",
      "        ],\n",
      "        \"author\": {\n",
      "            \"name\": \"Eleanor Roosevelt\",\n",
      "            \"goodreads_link\": \"/author/show/44566.Eleanor_Roosevelt\",\n",
      "            \"slug\": \"Eleanor-Roosevelt\"\n",
      "        },\n",
      "        \"text\": \"\\u201cA woman is like a tea bag; you never know how strong it is until it's in hot water.\\u201d\"\n",
      "    },\n",
      "    {\n",
      "        \"tags\": [\n",
      "            \"humor\",\n",
      "            \"obvious\",\n",
      "            \"simile\"\n",
      "        ],\n",
      "        \"author\": {\n",
      "            \"name\": \"Steve Martin\",\n",
      "            \"goodreads_link\": \"/author/show/7103.Steve_Martin\",\n",
      "            \"slug\": \"Steve-Martin\"\n",
      "        },\n",
      "        \"text\": \"\\u201cA day without sunshine is like, you know, night.\\u201d\"\n",
      "    }\n",
      "];\n",
      "    for (var i in data) {\n",
      "        var d = data[i];\n",
      "        var tags = $.map(d['tags'], function(t) {\n",
      "            return \"<a class='tag'>\" + t + \"</a>\";\n",
      "        }).join(\" \");\n",
      "        document.write(\"<div class='quote'><span class='text'>\" + d['text'] + \"</span><span>by <small class='author'>\" + d['author']['name'] + \"</small></span><div class='tags'>Tags: \" + tags + \"</div></div>\");\n",
      "        }\n",
      "</script>\n",
      "<nav>\n",
      "    <ul class=\"pager\">\n",
      "        \n",
      "        \n",
      "        <li class=\"next\">\n",
      "            <a href=\"/js/page/2/\">Next <span aria-hidden=\"true\">&rarr;</span></a>\n",
      "        </li>\n",
      "        \n",
      "    </ul>\n",
      "</nav>\n",
      "\n",
      "    </div>\n",
      "    <footer class=\"footer\">\n",
      "        <div class=\"container\">\n",
      "            <p class=\"text-muted\">\n",
      "                Quotes by: <a href=\"https://www.goodreads.com/quotes\">GoodReads.com</a>\n",
      "            </p>\n",
      "            <p class=\"copyright\">\n",
      "                Made with <span class='zyte'>❤</span> by <a class='zyte' href=\"https://www.zyte.com\">Zyte</a>\n",
      "            </p>\n",
      "        </div>\n",
      "    </footer>\n",
      "</body>\n",
      "</html>\n"
     ]
    }
   ],
   "source": [
    "print(y.text)"
   ]
  },
  {
   "cell_type": "code",
   "execution_count": null,
   "id": "8a1422ab",
   "metadata": {},
   "outputs": [],
   "source": []
  },
  {
   "cell_type": "code",
   "execution_count": 19,
   "id": "ef1ff5ee",
   "metadata": {},
   "outputs": [],
   "source": [
    "url=\"https://www.w3schools.com/xml/note.xml\""
   ]
  },
  {
   "cell_type": "code",
   "execution_count": 20,
   "id": "0fa1dedb",
   "metadata": {},
   "outputs": [],
   "source": [
    "xml=requests.get(url)"
   ]
  },
  {
   "cell_type": "code",
   "execution_count": 21,
   "id": "ddea491d",
   "metadata": {},
   "outputs": [
    {
     "data": {
      "text/plain": [
       "b'<?xml version=\"1.0\" encoding=\"UTF-8\"?>\\n<note>\\n  <to>Tove</to>\\n  <from>Jani</from>\\n  <heading>Reminder</heading>\\n  <body>Don\\'t forget me this weekend!</body>\\n</note>'"
      ]
     },
     "execution_count": 21,
     "metadata": {},
     "output_type": "execute_result"
    }
   ],
   "source": [
    "xml.content"
   ]
  },
  {
   "cell_type": "code",
   "execution_count": 22,
   "id": "e03ae8e9",
   "metadata": {},
   "outputs": [
    {
     "name": "stdout",
     "output_type": "stream",
     "text": [
      "<?xml version=\"1.0\" encoding=\"utf-8\"?>\n",
      "<note>\n",
      "<to>Tove</to>\n",
      "<from>Jani</from>\n",
      "<heading>Reminder</heading>\n",
      "<body>Don't forget me this weekend!</body>\n",
      "</note>\n"
     ]
    }
   ],
   "source": [
    "soup=BeautifulSoup(xml.content,'xml')\n",
    "print(soup)"
   ]
  },
  {
   "cell_type": "code",
   "execution_count": 23,
   "id": "16eca122",
   "metadata": {},
   "outputs": [],
   "source": [
    "xml_tag=soup.find('note')"
   ]
  },
  {
   "cell_type": "code",
   "execution_count": 24,
   "id": "3692eb4a",
   "metadata": {},
   "outputs": [
    {
     "data": {
      "text/plain": [
       "<note>\n",
       "<to>Tove</to>\n",
       "<from>Jani</from>\n",
       "<heading>Reminder</heading>\n",
       "<body>Don't forget me this weekend!</body>\n",
       "</note>"
      ]
     },
     "execution_count": 24,
     "metadata": {},
     "output_type": "execute_result"
    }
   ],
   "source": [
    "xml_tag"
   ]
  },
  {
   "cell_type": "code",
   "execution_count": 25,
   "id": "c1e885b6",
   "metadata": {},
   "outputs": [
    {
     "name": "stdout",
     "output_type": "stream",
     "text": [
      "\n",
      "Tove\n",
      "Jani\n",
      "Reminder\n",
      "Don't forget me this weekend!\n",
      "\n"
     ]
    }
   ],
   "source": [
    "print(xml_tag.text)"
   ]
  },
  {
   "cell_type": "code",
   "execution_count": 26,
   "id": "c550824b",
   "metadata": {},
   "outputs": [],
   "source": [
    "xml_tag=soup.find('heading')"
   ]
  },
  {
   "cell_type": "code",
   "execution_count": 27,
   "id": "70c87938",
   "metadata": {},
   "outputs": [
    {
     "name": "stdout",
     "output_type": "stream",
     "text": [
      "Reminder\n"
     ]
    }
   ],
   "source": [
    "print(xml_tag.text)"
   ]
  },
  {
   "cell_type": "code",
   "execution_count": 28,
   "id": "70a97108",
   "metadata": {},
   "outputs": [],
   "source": [
    "xml_tag=soup.find('body')"
   ]
  },
  {
   "cell_type": "code",
   "execution_count": 29,
   "id": "8577be0c",
   "metadata": {},
   "outputs": [
    {
     "name": "stdout",
     "output_type": "stream",
     "text": [
      "Don't forget me this weekend!\n"
     ]
    }
   ],
   "source": [
    "print(xml_tag.text)"
   ]
  },
  {
   "cell_type": "code",
   "execution_count": null,
   "id": "4bc6ab39",
   "metadata": {},
   "outputs": [],
   "source": []
  }
 ],
 "metadata": {
  "kernelspec": {
   "display_name": "Python 3 (ipykernel)",
   "language": "python",
   "name": "python3"
  },
  "language_info": {
   "codemirror_mode": {
    "name": "ipython",
    "version": 3
   },
   "file_extension": ".py",
   "mimetype": "text/x-python",
   "name": "python",
   "nbconvert_exporter": "python",
   "pygments_lexer": "ipython3",
   "version": "3.12.2"
  }
 },
 "nbformat": 4,
 "nbformat_minor": 5
}
