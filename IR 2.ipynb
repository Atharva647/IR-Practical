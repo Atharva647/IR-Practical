{
 "cells": [
  {
   "cell_type": "code",
   "execution_count": 36,
   "id": "ca66ebb9-fbcf-497e-a792-c5ae9a4b259f",
   "metadata": {},
   "outputs": [],
   "source": [
    "import string\n",
    "import re\n",
    "from nltk.corpus import stopwords"
   ]
  },
  {
   "cell_type": "code",
   "execution_count": 38,
   "id": "6debd73c-2504-4a3e-b23b-df3170afeee1",
   "metadata": {},
   "outputs": [],
   "source": [
    "file_1=open(\"doc1.txt\",encoding='utf8')\n",
    "file_2=open(\"doc2.txt\",encoding='utf8')"
   ]
  },
  {
   "cell_type": "code",
   "execution_count": 40,
   "id": "4b1cdf63-6428-42f4-aec8-bb88f64bbee6",
   "metadata": {},
   "outputs": [],
   "source": [
    "doc_1=file_1.read()\n",
    "doc_2=file_2.read()\n"
   ]
  },
  {
   "cell_type": "code",
   "execution_count": 42,
   "id": "78a42b93-a1be-4d3b-888a-f8517424e3f7",
   "metadata": {},
   "outputs": [
    {
     "data": {
      "text/plain": [
       "'Cybersecurity (or security): The practice of ensuring confidentiality, integrity, and availability of information by protecting networks, devices, people, and data from unauthorized access or criminal exploitation\\n\\nCloud security: The process of ensuring that assets stored in the cloud are properly configured and access to those assets is limited to authorized users\\n\\nInternal threat: A current or former employee, external vendor, or trusted partner who poses a security risk\\n'"
      ]
     },
     "execution_count": 42,
     "metadata": {},
     "output_type": "execute_result"
    }
   ],
   "source": [
    "doc_1"
   ]
  },
  {
   "cell_type": "code",
   "execution_count": 44,
   "id": "a81a093f-3c50-497b-b6c8-192bb03827db",
   "metadata": {},
   "outputs": [
    {
     "data": {
      "text/plain": [
       "'Resources\\n\\nResources are any finite entities that are required to perform tasks. They can be physical resources, such as tools, equipment, and materials, or intangible resources, such as time, money, and expertise. Resources are often shared by multiple tasks, and their availability can influence the scheduling of tasks.\\n\\nTemporal Constraints\\n\\nTemporal constraints are limitations on the timing of events. They can specify the order in which events must occur, the duration of events, or the time intervals within which events must occur. Temporal constraints are often used in scheduling to ensure that tasks are completed in a timely manner and that resources are used efficiently.\\n'"
      ]
     },
     "execution_count": 44,
     "metadata": {},
     "output_type": "execute_result"
    }
   ],
   "source": [
    "doc_2"
   ]
  },
  {
   "cell_type": "code",
   "execution_count": 46,
   "id": "8191f6bd-3b79-493c-9ec2-67eceef12a83",
   "metadata": {},
   "outputs": [],
   "source": [
    "doc_1=re.sub(r'[^0-9a-zA-Z\\s]','',doc_1)\n",
    "doc_2=re.sub(r'[^0-9a-zA-Z\\s]','',doc_2)\n"
   ]
  },
  {
   "cell_type": "code",
   "execution_count": 48,
   "id": "8ad328ff-7e82-4266-afed-a45b9e630d05",
   "metadata": {},
   "outputs": [],
   "source": [
    "doc_1=doc_1.lower().split()"
   ]
  },
  {
   "cell_type": "code",
   "execution_count": 50,
   "id": "9f7a92e4-a941-4868-a0cd-2e18a5d35036",
   "metadata": {},
   "outputs": [],
   "source": [
    "doc_2=doc_2.lower().split()"
   ]
  },
  {
   "cell_type": "code",
   "execution_count": 52,
   "id": "2e4ea677-c5b6-4b67-a431-6b5f1e0a65da",
   "metadata": {},
   "outputs": [
    {
     "data": {
      "text/plain": [
       "['cybersecurity',\n",
       " 'or',\n",
       " 'security',\n",
       " 'the',\n",
       " 'practice',\n",
       " 'of',\n",
       " 'ensuring',\n",
       " 'confidentiality',\n",
       " 'integrity',\n",
       " 'and',\n",
       " 'availability',\n",
       " 'of',\n",
       " 'information',\n",
       " 'by',\n",
       " 'protecting',\n",
       " 'networks',\n",
       " 'devices',\n",
       " 'people',\n",
       " 'and',\n",
       " 'data',\n",
       " 'from',\n",
       " 'unauthorized',\n",
       " 'access',\n",
       " 'or',\n",
       " 'criminal',\n",
       " 'exploitation',\n",
       " 'cloud',\n",
       " 'security',\n",
       " 'the',\n",
       " 'process',\n",
       " 'of',\n",
       " 'ensuring',\n",
       " 'that',\n",
       " 'assets',\n",
       " 'stored',\n",
       " 'in',\n",
       " 'the',\n",
       " 'cloud',\n",
       " 'are',\n",
       " 'properly',\n",
       " 'configured',\n",
       " 'and',\n",
       " 'access',\n",
       " 'to',\n",
       " 'those',\n",
       " 'assets',\n",
       " 'is',\n",
       " 'limited',\n",
       " 'to',\n",
       " 'authorized',\n",
       " 'users',\n",
       " 'internal',\n",
       " 'threat',\n",
       " 'a',\n",
       " 'current',\n",
       " 'or',\n",
       " 'former',\n",
       " 'employee',\n",
       " 'external',\n",
       " 'vendor',\n",
       " 'or',\n",
       " 'trusted',\n",
       " 'partner',\n",
       " 'who',\n",
       " 'poses',\n",
       " 'a',\n",
       " 'security',\n",
       " 'risk']"
      ]
     },
     "execution_count": 52,
     "metadata": {},
     "output_type": "execute_result"
    }
   ],
   "source": [
    "doc_1"
   ]
  },
  {
   "cell_type": "code",
   "execution_count": 54,
   "id": "6114eef4-c0bb-4e96-9cb3-4f96837ba98c",
   "metadata": {},
   "outputs": [
    {
     "data": {
      "text/plain": [
       "['resources',\n",
       " 'resources',\n",
       " 'are',\n",
       " 'any',\n",
       " 'finite',\n",
       " 'entities',\n",
       " 'that',\n",
       " 'are',\n",
       " 'required',\n",
       " 'to',\n",
       " 'perform',\n",
       " 'tasks',\n",
       " 'they',\n",
       " 'can',\n",
       " 'be',\n",
       " 'physical',\n",
       " 'resources',\n",
       " 'such',\n",
       " 'as',\n",
       " 'tools',\n",
       " 'equipment',\n",
       " 'and',\n",
       " 'materials',\n",
       " 'or',\n",
       " 'intangible',\n",
       " 'resources',\n",
       " 'such',\n",
       " 'as',\n",
       " 'time',\n",
       " 'money',\n",
       " 'and',\n",
       " 'expertise',\n",
       " 'resources',\n",
       " 'are',\n",
       " 'often',\n",
       " 'shared',\n",
       " 'by',\n",
       " 'multiple',\n",
       " 'tasks',\n",
       " 'and',\n",
       " 'their',\n",
       " 'availability',\n",
       " 'can',\n",
       " 'influence',\n",
       " 'the',\n",
       " 'scheduling',\n",
       " 'of',\n",
       " 'tasks',\n",
       " 'temporal',\n",
       " 'constraints',\n",
       " 'temporal',\n",
       " 'constraints',\n",
       " 'are',\n",
       " 'limitations',\n",
       " 'on',\n",
       " 'the',\n",
       " 'timing',\n",
       " 'of',\n",
       " 'events',\n",
       " 'they',\n",
       " 'can',\n",
       " 'specify',\n",
       " 'the',\n",
       " 'order',\n",
       " 'in',\n",
       " 'which',\n",
       " 'events',\n",
       " 'must',\n",
       " 'occur',\n",
       " 'the',\n",
       " 'duration',\n",
       " 'of',\n",
       " 'events',\n",
       " 'or',\n",
       " 'the',\n",
       " 'time',\n",
       " 'intervals',\n",
       " 'within',\n",
       " 'which',\n",
       " 'events',\n",
       " 'must',\n",
       " 'occur',\n",
       " 'temporal',\n",
       " 'constraints',\n",
       " 'are',\n",
       " 'often',\n",
       " 'used',\n",
       " 'in',\n",
       " 'scheduling',\n",
       " 'to',\n",
       " 'ensure',\n",
       " 'that',\n",
       " 'tasks',\n",
       " 'are',\n",
       " 'completed',\n",
       " 'in',\n",
       " 'a',\n",
       " 'timely',\n",
       " 'manner',\n",
       " 'and',\n",
       " 'that',\n",
       " 'resources',\n",
       " 'are',\n",
       " 'used',\n",
       " 'efficiently']"
      ]
     },
     "execution_count": 54,
     "metadata": {},
     "output_type": "execute_result"
    }
   ],
   "source": [
    "doc_2"
   ]
  },
  {
   "cell_type": "code",
   "execution_count": 56,
   "id": "c42472a4-399d-49e1-a92d-3a888459e7e5",
   "metadata": {},
   "outputs": [],
   "source": [
    "stop_words=set(stopwords.words('english'))"
   ]
  },
  {
   "cell_type": "code",
   "execution_count": 58,
   "id": "f6321305-d5d7-41c7-8408-0605574338db",
   "metadata": {},
   "outputs": [],
   "source": [
    "doc_1=[i  for i in doc_1 if i not in stop_words]"
   ]
  },
  {
   "cell_type": "code",
   "execution_count": 60,
   "id": "3e1e3d0a-15a1-495f-a770-e0cb9a2f60b9",
   "metadata": {},
   "outputs": [],
   "source": [
    "doc_2=[i  for i in doc_2 if i not in stop_words]"
   ]
  },
  {
   "cell_type": "code",
   "execution_count": 62,
   "id": "1991f82e-8ffc-405d-a3e4-feb06400c3ca",
   "metadata": {},
   "outputs": [
    {
     "data": {
      "text/plain": [
       "['cybersecurity',\n",
       " 'security',\n",
       " 'practice',\n",
       " 'ensuring',\n",
       " 'confidentiality',\n",
       " 'integrity',\n",
       " 'availability',\n",
       " 'information',\n",
       " 'protecting',\n",
       " 'networks',\n",
       " 'devices',\n",
       " 'people',\n",
       " 'data',\n",
       " 'unauthorized',\n",
       " 'access',\n",
       " 'criminal',\n",
       " 'exploitation',\n",
       " 'cloud',\n",
       " 'security',\n",
       " 'process',\n",
       " 'ensuring',\n",
       " 'assets',\n",
       " 'stored',\n",
       " 'cloud',\n",
       " 'properly',\n",
       " 'configured',\n",
       " 'access',\n",
       " 'assets',\n",
       " 'limited',\n",
       " 'authorized',\n",
       " 'users',\n",
       " 'internal',\n",
       " 'threat',\n",
       " 'current',\n",
       " 'former',\n",
       " 'employee',\n",
       " 'external',\n",
       " 'vendor',\n",
       " 'trusted',\n",
       " 'partner',\n",
       " 'poses',\n",
       " 'security',\n",
       " 'risk']"
      ]
     },
     "execution_count": 62,
     "metadata": {},
     "output_type": "execute_result"
    }
   ],
   "source": [
    "doc_1"
   ]
  },
  {
   "cell_type": "code",
   "execution_count": 64,
   "id": "7adca5fa-3779-41fc-9b43-d7721bb9f16b",
   "metadata": {},
   "outputs": [
    {
     "data": {
      "text/plain": [
       "['resources',\n",
       " 'resources',\n",
       " 'finite',\n",
       " 'entities',\n",
       " 'required',\n",
       " 'perform',\n",
       " 'tasks',\n",
       " 'physical',\n",
       " 'resources',\n",
       " 'tools',\n",
       " 'equipment',\n",
       " 'materials',\n",
       " 'intangible',\n",
       " 'resources',\n",
       " 'time',\n",
       " 'money',\n",
       " 'expertise',\n",
       " 'resources',\n",
       " 'often',\n",
       " 'shared',\n",
       " 'multiple',\n",
       " 'tasks',\n",
       " 'availability',\n",
       " 'influence',\n",
       " 'scheduling',\n",
       " 'tasks',\n",
       " 'temporal',\n",
       " 'constraints',\n",
       " 'temporal',\n",
       " 'constraints',\n",
       " 'limitations',\n",
       " 'timing',\n",
       " 'events',\n",
       " 'specify',\n",
       " 'order',\n",
       " 'events',\n",
       " 'must',\n",
       " 'occur',\n",
       " 'duration',\n",
       " 'events',\n",
       " 'time',\n",
       " 'intervals',\n",
       " 'within',\n",
       " 'events',\n",
       " 'must',\n",
       " 'occur',\n",
       " 'temporal',\n",
       " 'constraints',\n",
       " 'often',\n",
       " 'used',\n",
       " 'scheduling',\n",
       " 'ensure',\n",
       " 'tasks',\n",
       " 'completed',\n",
       " 'timely',\n",
       " 'manner',\n",
       " 'resources',\n",
       " 'used',\n",
       " 'efficiently']"
      ]
     },
     "execution_count": 64,
     "metadata": {},
     "output_type": "execute_result"
    }
   ],
   "source": [
    "doc_2"
   ]
  },
  {
   "cell_type": "code",
   "execution_count": 15,
   "id": "7d3fd5ef-9629-4294-8b92-a5cdf07c7fc0",
   "metadata": {},
   "outputs": [],
   "source": [
    "inverted_index={}\n",
    "def add_doc(doc_id,doc,inverted_index):\n",
    "    for word in doc:\n",
    "        if word not in inverted_index:\n",
    "            inverted_index[word]=set()\n",
    "        inverted_index[word].add(doc_id)\n",
    "    return inverted_index"
   ]
  },
  {
   "cell_type": "code",
   "execution_count": 16,
   "id": "651a89f0-1ad8-4b51-90e1-c7d55a5827f0",
   "metadata": {},
   "outputs": [
    {
     "data": {
      "text/plain": [
       "{'cybersecurity': {'doc_1'},\n",
       " 'security': {'doc_1'},\n",
       " 'practice': {'doc_1'},\n",
       " 'ensuring': {'doc_1'},\n",
       " 'confidentiality': {'doc_1'},\n",
       " 'integrity': {'doc_1'},\n",
       " 'availability': {'doc_1'},\n",
       " 'information': {'doc_1'},\n",
       " 'protecting': {'doc_1'},\n",
       " 'networks': {'doc_1'},\n",
       " 'devices': {'doc_1'},\n",
       " 'people': {'doc_1'},\n",
       " 'data': {'doc_1'},\n",
       " 'unauthorized': {'doc_1'},\n",
       " 'access': {'doc_1'},\n",
       " 'criminal': {'doc_1'},\n",
       " 'exploitation': {'doc_1'},\n",
       " 'cloud': {'doc_1'},\n",
       " 'process': {'doc_1'},\n",
       " 'assets': {'doc_1'},\n",
       " 'stored': {'doc_1'},\n",
       " 'properly': {'doc_1'},\n",
       " 'configured': {'doc_1'},\n",
       " 'limited': {'doc_1'},\n",
       " 'authorized': {'doc_1'},\n",
       " 'users': {'doc_1'},\n",
       " 'internal': {'doc_1'},\n",
       " 'threat': {'doc_1'},\n",
       " 'current': {'doc_1'},\n",
       " 'former': {'doc_1'},\n",
       " 'employee': {'doc_1'},\n",
       " 'external': {'doc_1'},\n",
       " 'vendor': {'doc_1'},\n",
       " 'trusted': {'doc_1'},\n",
       " 'partner': {'doc_1'},\n",
       " 'poses': {'doc_1'},\n",
       " 'risk': {'doc_1'}}"
      ]
     },
     "execution_count": 16,
     "metadata": {},
     "output_type": "execute_result"
    }
   ],
   "source": [
    "add_doc('doc_1',doc_1,inverted_index)"
   ]
  },
  {
   "cell_type": "code",
   "execution_count": 17,
   "id": "ab1eee56-b2e1-4b8a-bd2d-e4fc173ee7e3",
   "metadata": {},
   "outputs": [
    {
     "data": {
      "text/plain": [
       "{'cybersecurity': {'doc_1'},\n",
       " 'security': {'doc_1'},\n",
       " 'practice': {'doc_1'},\n",
       " 'ensuring': {'doc_1'},\n",
       " 'confidentiality': {'doc_1'},\n",
       " 'integrity': {'doc_1'},\n",
       " 'availability': {'doc_1', 'doc_2'},\n",
       " 'information': {'doc_1'},\n",
       " 'protecting': {'doc_1'},\n",
       " 'networks': {'doc_1'},\n",
       " 'devices': {'doc_1'},\n",
       " 'people': {'doc_1'},\n",
       " 'data': {'doc_1'},\n",
       " 'unauthorized': {'doc_1'},\n",
       " 'access': {'doc_1'},\n",
       " 'criminal': {'doc_1'},\n",
       " 'exploitation': {'doc_1'},\n",
       " 'cloud': {'doc_1'},\n",
       " 'process': {'doc_1'},\n",
       " 'assets': {'doc_1'},\n",
       " 'stored': {'doc_1'},\n",
       " 'properly': {'doc_1'},\n",
       " 'configured': {'doc_1'},\n",
       " 'limited': {'doc_1'},\n",
       " 'authorized': {'doc_1'},\n",
       " 'users': {'doc_1'},\n",
       " 'internal': {'doc_1'},\n",
       " 'threat': {'doc_1'},\n",
       " 'current': {'doc_1'},\n",
       " 'former': {'doc_1'},\n",
       " 'employee': {'doc_1'},\n",
       " 'external': {'doc_1'},\n",
       " 'vendor': {'doc_1'},\n",
       " 'trusted': {'doc_1'},\n",
       " 'partner': {'doc_1'},\n",
       " 'poses': {'doc_1'},\n",
       " 'risk': {'doc_1'},\n",
       " 'resources': {'doc_2'},\n",
       " 'finite': {'doc_2'},\n",
       " 'entities': {'doc_2'},\n",
       " 'required': {'doc_2'},\n",
       " 'perform': {'doc_2'},\n",
       " 'tasks': {'doc_2'},\n",
       " 'physical': {'doc_2'},\n",
       " 'tools': {'doc_2'},\n",
       " 'equipment': {'doc_2'},\n",
       " 'materials': {'doc_2'},\n",
       " 'intangible': {'doc_2'},\n",
       " 'time': {'doc_2'},\n",
       " 'money': {'doc_2'},\n",
       " 'expertise': {'doc_2'},\n",
       " 'often': {'doc_2'},\n",
       " 'shared': {'doc_2'},\n",
       " 'multiple': {'doc_2'},\n",
       " 'influence': {'doc_2'},\n",
       " 'scheduling': {'doc_2'},\n",
       " 'temporal': {'doc_2'},\n",
       " 'constraints': {'doc_2'},\n",
       " 'limitations': {'doc_2'},\n",
       " 'timing': {'doc_2'},\n",
       " 'events': {'doc_2'},\n",
       " 'specify': {'doc_2'},\n",
       " 'order': {'doc_2'},\n",
       " 'must': {'doc_2'},\n",
       " 'occur': {'doc_2'},\n",
       " 'duration': {'doc_2'},\n",
       " 'intervals': {'doc_2'},\n",
       " 'within': {'doc_2'},\n",
       " 'used': {'doc_2'},\n",
       " 'ensure': {'doc_2'},\n",
       " 'completed': {'doc_2'},\n",
       " 'timely': {'doc_2'},\n",
       " 'manner': {'doc_2'},\n",
       " 'efficiently': {'doc_2'}}"
      ]
     },
     "execution_count": 17,
     "metadata": {},
     "output_type": "execute_result"
    }
   ],
   "source": [
    "add_doc('doc_2',doc_2_token,inverted_index)"
   ]
  },
  {
   "cell_type": "code",
   "execution_count": 66,
   "id": "127b930b-ba93-4014-a48f-bfe9b2d57325",
   "metadata": {},
   "outputs": [
    {
     "data": {
      "text/plain": [
       "{'cybersecurity': {'doc_1'},\n",
       " 'security': {'doc_1'},\n",
       " 'practice': {'doc_1'},\n",
       " 'ensuring': {'doc_1'},\n",
       " 'confidentiality': {'doc_1'},\n",
       " 'integrity': {'doc_1'},\n",
       " 'availability': {'doc_1', 'doc_2'},\n",
       " 'information': {'doc_1'},\n",
       " 'protecting': {'doc_1'},\n",
       " 'networks': {'doc_1'},\n",
       " 'devices': {'doc_1'},\n",
       " 'people': {'doc_1'},\n",
       " 'data': {'doc_1'},\n",
       " 'unauthorized': {'doc_1'},\n",
       " 'access': {'doc_1'},\n",
       " 'criminal': {'doc_1'},\n",
       " 'exploitation': {'doc_1'},\n",
       " 'cloud': {'doc_1'},\n",
       " 'process': {'doc_1'},\n",
       " 'assets': {'doc_1'},\n",
       " 'stored': {'doc_1'},\n",
       " 'properly': {'doc_1'},\n",
       " 'configured': {'doc_1'},\n",
       " 'limited': {'doc_1'},\n",
       " 'authorized': {'doc_1'},\n",
       " 'users': {'doc_1'},\n",
       " 'internal': {'doc_1'},\n",
       " 'threat': {'doc_1'},\n",
       " 'current': {'doc_1'},\n",
       " 'former': {'doc_1'},\n",
       " 'employee': {'doc_1'},\n",
       " 'external': {'doc_1'},\n",
       " 'vendor': {'doc_1'},\n",
       " 'trusted': {'doc_1'},\n",
       " 'partner': {'doc_1'},\n",
       " 'poses': {'doc_1'},\n",
       " 'risk': {'doc_1'},\n",
       " 'resources': {'doc_2'},\n",
       " 'finite': {'doc_2'},\n",
       " 'entities': {'doc_2'},\n",
       " 'required': {'doc_2'},\n",
       " 'perform': {'doc_2'},\n",
       " 'tasks': {'doc_2'},\n",
       " 'physical': {'doc_2'},\n",
       " 'tools': {'doc_2'},\n",
       " 'equipment': {'doc_2'},\n",
       " 'materials': {'doc_2'},\n",
       " 'intangible': {'doc_2'},\n",
       " 'time': {'doc_2'},\n",
       " 'money': {'doc_2'},\n",
       " 'expertise': {'doc_2'},\n",
       " 'often': {'doc_2'},\n",
       " 'shared': {'doc_2'},\n",
       " 'multiple': {'doc_2'},\n",
       " 'influence': {'doc_2'},\n",
       " 'scheduling': {'doc_2'},\n",
       " 'temporal': {'doc_2'},\n",
       " 'constraints': {'doc_2'},\n",
       " 'limitations': {'doc_2'},\n",
       " 'timing': {'doc_2'},\n",
       " 'events': {'doc_2'},\n",
       " 'specify': {'doc_2'},\n",
       " 'order': {'doc_2'},\n",
       " 'must': {'doc_2'},\n",
       " 'occur': {'doc_2'},\n",
       " 'duration': {'doc_2'},\n",
       " 'intervals': {'doc_2'},\n",
       " 'within': {'doc_2'},\n",
       " 'used': {'doc_2'},\n",
       " 'ensure': {'doc_2'},\n",
       " 'completed': {'doc_2'},\n",
       " 'timely': {'doc_2'},\n",
       " 'manner': {'doc_2'},\n",
       " 'efficiently': {'doc_2'}}"
      ]
     },
     "execution_count": 66,
     "metadata": {},
     "output_type": "execute_result"
    }
   ],
   "source": [
    "inverted_index"
   ]
  },
  {
   "cell_type": "code",
   "execution_count": 98,
   "id": "cba83612-2a5c-4f19-84b7-ba36ec239e72",
   "metadata": {},
   "outputs": [],
   "source": [
    "def search_word(inverted_index,query):\n",
    "    word=query.lower().split()\n",
    "    result=[inverted_index[i] for i in word if i in inverted_index]\n",
    "    if not result:\n",
    "            return set()\n",
    "    return set.intersection(result)"
   ]
  },
  {
   "cell_type": "code",
   "execution_count": 102,
   "id": "f75bb9ce-3f0d-45c2-8f2b-890942198933",
   "metadata": {},
   "outputs": [
    {
     "data": {
      "text/plain": [
       "[{'doc_2'}]"
      ]
     },
     "execution_count": 102,
     "metadata": {},
     "output_type": "execute_result"
    }
   ],
   "source": [
    "search_word(inverted_index,'manner')"
   ]
  },
  {
   "cell_type": "code",
   "execution_count": null,
   "id": "9b0dca23-65be-4058-81df-3e4c8ae39e2e",
   "metadata": {},
   "outputs": [],
   "source": []
  }
 ],
 "metadata": {
  "kernelspec": {
   "display_name": "Python 3 (ipykernel)",
   "language": "python",
   "name": "python3"
  },
  "language_info": {
   "codemirror_mode": {
    "name": "ipython",
    "version": 3
   },
   "file_extension": ".py",
   "mimetype": "text/x-python",
   "name": "python",
   "nbconvert_exporter": "python",
   "pygments_lexer": "ipython3",
   "version": "3.12.3"
  }
 },
 "nbformat": 4,
 "nbformat_minor": 5
}
