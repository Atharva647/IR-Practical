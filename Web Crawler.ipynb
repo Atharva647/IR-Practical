{
 "cells": [
  {
   "cell_type": "code",
   "execution_count": 5,
   "id": "284545db",
   "metadata": {},
   "outputs": [
    {
     "name": "stdout",
     "output_type": "stream",
     "text": [
      "Crawling https://www.algomap.io is allowed by robots.txt\n"
     ]
    }
   ],
   "source": [
    "from urllib.parse import urlparse\n",
    "from urllib.robotparser import RobotFileParser\n",
    "\n",
    "def is_allowed(url,user_agent='*'):\n",
    "    parsed_url=urlparse(url)\n",
    "    base_url=f'{parsed_url.scheme}://{parsed_url.netloc}'\n",
    "    \n",
    "    robo_txt_url=f\"{base_url}/robots.txt\"\n",
    "    robo_parser=RobotFileParser()\n",
    "    robo_parser.set_url(robo_txt_url)\n",
    "    robo_parser.read()\n",
    "    \n",
    "    return robo_parser.can_fetch(user_agent,url)\n",
    "\n",
    "\n",
    "start_url='https://www.algomap.io'\n",
    "user_agent=('MyWebCrawler')\n",
    "\n",
    "if is_allowed(start_url,user_agent):\n",
    "    print(f\"Crawling {start_url} is allowed by robots.txt\")\n",
    "    \n",
    "else:\n",
    "    print(f\"Crawling {start_url} is not allowed by robots.txt\")"
   ]
  },
  {
   "cell_type": "code",
   "execution_count": null,
   "id": "8a36d618",
   "metadata": {},
   "outputs": [],
   "source": []
  }
 ],
 "metadata": {
  "kernelspec": {
   "display_name": "Python 3 (ipykernel)",
   "language": "python",
   "name": "python3"
  },
  "language_info": {
   "codemirror_mode": {
    "name": "ipython",
    "version": 3
   },
   "file_extension": ".py",
   "mimetype": "text/x-python",
   "name": "python",
   "nbconvert_exporter": "python",
   "pygments_lexer": "ipython3",
   "version": "3.11.5"
  }
 },
 "nbformat": 4,
 "nbformat_minor": 5
}
