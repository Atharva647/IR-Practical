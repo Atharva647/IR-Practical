{
 "cells": [
  {
   "cell_type": "code",
   "execution_count": 2,
   "id": "de332d7c",
   "metadata": {},
   "outputs": [],
   "source": [
    "import pandas as pd\n",
    "import nltk\n",
    "from nltk.corpus import stopwords"
   ]
  },
  {
   "cell_type": "code",
   "execution_count": 3,
   "id": "efb8a011",
   "metadata": {},
   "outputs": [
    {
     "data": {
      "text/plain": [
       "'the quick brown fox jumps over the lazy dog. this classic sentence showcases all the 26 english alphabets and is often used for typing practice.'"
      ]
     },
     "execution_count": 3,
     "metadata": {},
     "output_type": "execute_result"
    }
   ],
   "source": [
    "text='The quick brown fox jumps over the lazy dog. This classic sentence showcases all the 26 English alphabets and is often used for typing practice.'\n",
    "text = text.lower()\n",
    "text"
   ]
  },
  {
   "cell_type": "code",
   "execution_count": 4,
   "id": "1a6282b1",
   "metadata": {},
   "outputs": [],
   "source": [
    "tokenized=nltk.sent_tokenize(text)"
   ]
  },
  {
   "cell_type": "code",
   "execution_count": 5,
   "id": "88491e88",
   "metadata": {},
   "outputs": [
    {
     "data": {
      "text/plain": [
       "['the quick brown fox jumps over the lazy dog.',\n",
       " 'this classic sentence showcases all the 26 english alphabets and is often used for typing practice.']"
      ]
     },
     "execution_count": 5,
     "metadata": {},
     "output_type": "execute_result"
    }
   ],
   "source": [
    "tokenized"
   ]
  },
  {
   "cell_type": "code",
   "execution_count": 6,
   "id": "c8a8cc60",
   "metadata": {},
   "outputs": [],
   "source": [
    "tokenized_words=nltk.word_tokenize(text)"
   ]
  },
  {
   "cell_type": "code",
   "execution_count": 7,
   "id": "2126ce58",
   "metadata": {},
   "outputs": [
    {
     "data": {
      "text/plain": [
       "['the',\n",
       " 'quick',\n",
       " 'brown',\n",
       " 'fox',\n",
       " 'jumps',\n",
       " 'over',\n",
       " 'the',\n",
       " 'lazy',\n",
       " 'dog',\n",
       " '.',\n",
       " 'this',\n",
       " 'classic',\n",
       " 'sentence',\n",
       " 'showcases',\n",
       " 'all',\n",
       " 'the',\n",
       " '26',\n",
       " 'english',\n",
       " 'alphabets',\n",
       " 'and',\n",
       " 'is',\n",
       " 'often',\n",
       " 'used',\n",
       " 'for',\n",
       " 'typing',\n",
       " 'practice',\n",
       " '.']"
      ]
     },
     "execution_count": 7,
     "metadata": {},
     "output_type": "execute_result"
    }
   ],
   "source": [
    "tokenized_words"
   ]
  },
  {
   "cell_type": "code",
   "execution_count": 8,
   "id": "acbef526",
   "metadata": {},
   "outputs": [],
   "source": [
    "from nltk.stem import SnowballStemmer\n",
    "from nltk.stem import PorterStemmer"
   ]
  },
  {
   "cell_type": "code",
   "execution_count": 9,
   "id": "f09897d9",
   "metadata": {},
   "outputs": [],
   "source": [
    "SS=SnowballStemmer(language='english')\n",
    "PR=PorterStemmer()"
   ]
  },
  {
   "cell_type": "code",
   "execution_count": 10,
   "id": "4fc0b5a8",
   "metadata": {},
   "outputs": [],
   "source": [
    "stemmedSS=[]\n",
    "for i in tokenized_words:\n",
    "    stemmedSS.append(SS.stem(i))"
   ]
  },
  {
   "cell_type": "code",
   "execution_count": 11,
   "id": "4e42d3d0",
   "metadata": {},
   "outputs": [
    {
     "data": {
      "text/plain": [
       "['the',\n",
       " 'quick',\n",
       " 'brown',\n",
       " 'fox',\n",
       " 'jump',\n",
       " 'over',\n",
       " 'the',\n",
       " 'lazi',\n",
       " 'dog',\n",
       " '.',\n",
       " 'this',\n",
       " 'classic',\n",
       " 'sentenc',\n",
       " 'showcas',\n",
       " 'all',\n",
       " 'the',\n",
       " '26',\n",
       " 'english',\n",
       " 'alphabet',\n",
       " 'and',\n",
       " 'is',\n",
       " 'often',\n",
       " 'use',\n",
       " 'for',\n",
       " 'type',\n",
       " 'practic',\n",
       " '.']"
      ]
     },
     "execution_count": 11,
     "metadata": {},
     "output_type": "execute_result"
    }
   ],
   "source": [
    "stemmedSS"
   ]
  },
  {
   "cell_type": "code",
   "execution_count": 12,
   "id": "895137c5",
   "metadata": {},
   "outputs": [],
   "source": [
    "stemmedPR=[]\n",
    "for i in tokenized_words:\n",
    "    stemmedPR.append(PR.stem(i))"
   ]
  },
  {
   "cell_type": "code",
   "execution_count": 13,
   "id": "6426d0ed",
   "metadata": {},
   "outputs": [
    {
     "data": {
      "text/plain": [
       "['the',\n",
       " 'quick',\n",
       " 'brown',\n",
       " 'fox',\n",
       " 'jump',\n",
       " 'over',\n",
       " 'the',\n",
       " 'lazi',\n",
       " 'dog',\n",
       " '.',\n",
       " 'thi',\n",
       " 'classic',\n",
       " 'sentenc',\n",
       " 'showcas',\n",
       " 'all',\n",
       " 'the',\n",
       " '26',\n",
       " 'english',\n",
       " 'alphabet',\n",
       " 'and',\n",
       " 'is',\n",
       " 'often',\n",
       " 'use',\n",
       " 'for',\n",
       " 'type',\n",
       " 'practic',\n",
       " '.']"
      ]
     },
     "execution_count": 13,
     "metadata": {},
     "output_type": "execute_result"
    }
   ],
   "source": [
    "stemmedPR"
   ]
  },
  {
   "cell_type": "code",
   "execution_count": 14,
   "id": "c0a6d499",
   "metadata": {},
   "outputs": [],
   "source": [
    "stpwrds=stopwords.words('english')\n",
    "\n",
    "stpremoved=[]"
   ]
  },
  {
   "cell_type": "code",
   "execution_count": 15,
   "id": "4cdab98f",
   "metadata": {},
   "outputs": [],
   "source": [
    "for i in stemmedPR:\n",
    "    if i not in stpwrds:\n",
    "        stpremoved.append(i)"
   ]
  },
  {
   "cell_type": "code",
   "execution_count": 16,
   "id": "3cd0c52d",
   "metadata": {},
   "outputs": [
    {
     "data": {
      "text/plain": [
       "['quick',\n",
       " 'brown',\n",
       " 'fox',\n",
       " 'jump',\n",
       " 'lazi',\n",
       " 'dog',\n",
       " '.',\n",
       " 'thi',\n",
       " 'classic',\n",
       " 'sentenc',\n",
       " 'showcas',\n",
       " '26',\n",
       " 'english',\n",
       " 'alphabet',\n",
       " 'often',\n",
       " 'use',\n",
       " 'type',\n",
       " 'practic',\n",
       " '.']"
      ]
     },
     "execution_count": 16,
     "metadata": {},
     "output_type": "execute_result"
    }
   ],
   "source": [
    "stpremoved"
   ]
  },
  {
   "cell_type": "code",
   "execution_count": 17,
   "id": "ec7d55cf",
   "metadata": {},
   "outputs": [],
   "source": []
  },
  {
   "cell_type": "code",
   "execution_count": 18,
   "id": "0858b145",
   "metadata": {},
   "outputs": [
    {
     "data": {
      "text/plain": [
       "['quick',\n",
       " 'brown',\n",
       " 'fox',\n",
       " 'jump',\n",
       " 'lazi',\n",
       " 'dog',\n",
       " 'thi',\n",
       " 'classic',\n",
       " 'sentenc',\n",
       " 'showcas',\n",
       " 'english',\n",
       " 'alphabet',\n",
       " 'often',\n",
       " 'use',\n",
       " 'type',\n",
       " 'practic']"
      ]
     },
     "execution_count": 18,
     "metadata": {},
     "output_type": "execute_result"
    }
   ],
   "source": [
    "cleaned_text"
   ]
  },
  {
   "cell_type": "code",
   "execution_count": 19,
   "id": "19c9696a",
   "metadata": {},
   "outputs": [
    {
     "data": {
      "text/plain": [
       "'There are three balls in this bag, and twelve in the other one.'"
      ]
     },
     "execution_count": 19,
     "metadata": {},
     "output_type": "execute_result"
    }
   ],
   "source": [
    "# import the inflect library\n",
    "import inflect\n",
    "p = inflect.engine()\n",
    "\n",
    "# convert number into words\n",
    "def convert_number(text):\n",
    "    # split string into list of words\n",
    "    temp_str = text.split()\n",
    "    # initialise empty list\n",
    "    new_string = []\n",
    "\n",
    "    for word in temp_str:\n",
    "        # if word is a digit, convert the digit\n",
    "        # to numbers and append into the new_string list\n",
    "        if word.isdigit():\n",
    "            temp = p.number_to_words(word)\n",
    "            new_string.append(temp)\n",
    "\n",
    "        # append the word as it is\n",
    "        else:\n",
    "            new_string.append(word)\n",
    "\n",
    "    # join the words of new_string to form a string\n",
    "    temp_str = ' '.join(new_string)\n",
    "    return temp_str\n",
    "\n",
    "input_str = 'There are 3 balls in this bag, and 12 in the other one.'\n",
    "convert_number(input_str)\n"
   ]
  },
  {
   "cell_type": "code",
   "execution_count": 20,
   "id": "83439aa8",
   "metadata": {},
   "outputs": [
    {
     "data": {
      "text/plain": [
       "['quick',\n",
       " 'brown',\n",
       " 'fox',\n",
       " 'jump',\n",
       " 'lazi',\n",
       " 'dog',\n",
       " '.',\n",
       " 'thi',\n",
       " 'classic',\n",
       " 'sentenc',\n",
       " 'showcas',\n",
       " 'twenty-six',\n",
       " 'english',\n",
       " 'alphabet',\n",
       " 'often',\n",
       " 'use',\n",
       " 'type',\n",
       " 'practic',\n",
       " '.']"
      ]
     },
     "execution_count": 20,
     "metadata": {},
     "output_type": "execute_result"
    }
   ],
   "source": [
    "str_to_num=[]\n",
    "for i in stpremoved:\n",
    "    if i.isdigit():\n",
    "        tmp=p.number_to_words(i)\n",
    "        str_to_num.append(tmp)\n",
    "    else:\n",
    "        str_to_num.append(i)\n",
    "str_to_num"
   ]
  },
  {
   "cell_type": "code",
   "execution_count": 21,
   "id": "788c51dc",
   "metadata": {},
   "outputs": [],
   "source": [
    "cleaned_text=[]\n",
    "for i in str_to_num:\n",
    "    if i.isalpha():\n",
    "        cleaned_text.append(i)"
   ]
  },
  {
   "cell_type": "code",
   "execution_count": 22,
   "id": "780cc280",
   "metadata": {},
   "outputs": [
    {
     "data": {
      "text/plain": [
       "['quick',\n",
       " 'brown',\n",
       " 'fox',\n",
       " 'jump',\n",
       " 'lazi',\n",
       " 'dog',\n",
       " 'thi',\n",
       " 'classic',\n",
       " 'sentenc',\n",
       " 'showcas',\n",
       " 'english',\n",
       " 'alphabet',\n",
       " 'often',\n",
       " 'use',\n",
       " 'type',\n",
       " 'practic']"
      ]
     },
     "execution_count": 22,
     "metadata": {},
     "output_type": "execute_result"
    }
   ],
   "source": [
    "cleaned_text"
   ]
  },
  {
   "cell_type": "code",
   "execution_count": null,
   "id": "fcd94571",
   "metadata": {},
   "outputs": [],
   "source": []
  }
 ],
 "metadata": {
  "kernelspec": {
   "display_name": "Python 3 (ipykernel)",
   "language": "python",
   "name": "python3"
  },
  "language_info": {
   "codemirror_mode": {
    "name": "ipython",
    "version": 3
   },
   "file_extension": ".py",
   "mimetype": "text/x-python",
   "name": "python",
   "nbconvert_exporter": "python",
   "pygments_lexer": "ipython3",
   "version": "3.11.5"
  }
 },
 "nbformat": 4,
 "nbformat_minor": 5
}
